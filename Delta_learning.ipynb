{
  "nbformat": 4,
  "nbformat_minor": 0,
  "metadata": {
    "colab": {
      "provenance": []
    },
    "kernelspec": {
      "name": "python3",
      "display_name": "Python 3"
    },
    "language_info": {
      "name": "python"
    }
  },
  "cells": [
    {
      "cell_type": "markdown",
      "source": [
        "# Delta Learning Implementation\n",
        "**Name:** Swarada Pravinchandra Bhosale <br>\n",
        "**PRN:** 21610077<br>\n",
        "**Class:** Information Technology <br>\n",
        "**Year:**Third Year <br>\n",
        "**Batch:** T3<br>\n"
      ],
      "metadata": {
        "id": "NZ000LecQd5h"
      }
    },
    {
      "cell_type": "markdown",
      "source": [
        "## Code:"
      ],
      "metadata": {
        "id": "k3Bd9ZPiRK_S"
      }
    },
    {
      "cell_type": "code",
      "execution_count": null,
      "metadata": {
        "id": "0dBQY7NxPPzb",
        "colab": {
          "base_uri": "https://localhost:8080/"
        },
        "outputId": "b860274c-94ed-4e62-fc69-602c2ce17ba4"
      },
      "outputs": [
        {
          "output_type": "stream",
          "name": "stdout",
          "text": [
            "Enter number of input vectors: 3\n",
            "Enter values for vector 1: 1 2 3\n",
            "Enter values for vector 2: 1 4 1\n",
            "Enter values for vector 3: 3 3 3\n",
            "Enter values for teacher signal: 2 5 1\n",
            "Enter initial weight vector: 1 0 1\n",
            "0.035\n",
            "i: 0\n",
            "net: 4.0\n",
            "sig_net: 0.964\n",
            "sig_dash_net: 0.035\n",
            "delta_w: [0.004, 0.007, 0.011]\n",
            "teacher_signal: 2\n",
            "w: [1.004, 0.007, 1.011]\n",
            "-------------------\n",
            "\n",
            "0.204\n",
            "i: 1\n",
            "net: 2.043\n",
            "sig_net: 0.77\n",
            "sig_dash_net: 0.204\n",
            "delta_w: [0.086, 0.345, 0.086]\n",
            "teacher_signal: 5\n",
            "w: [1.09, 0.352, 1.097]\n",
            "-------------------\n",
            "\n",
            "0.001\n",
            "i: 2\n",
            "net: 7.617\n",
            "sig_net: 0.999\n",
            "sig_dash_net: 0.001\n",
            "delta_w: [0.0, 0.0, 0.0]\n",
            "teacher_signal: 1\n",
            "w: [1.09, 0.352, 1.097]\n",
            "-------------------\n",
            "\n"
          ]
        }
      ],
      "source": [
        "# -*- coding: utf-8 -*-\n",
        "\n",
        "import numpy as np\n",
        "import time, math\n",
        "\n",
        "def threshold(x):\n",
        "\treturn round(((2 / (1 + math.exp(-x))) - 1), 3)\n",
        "\n",
        "def print_func(loop_var, net, sig_net, sig_dash_net, teacher_signal, w, delta_w = None):\n",
        "\t\tprint(\"i: \"+ str(loop_var))\n",
        "\t\tprint(\"net: \"+ str(net))\n",
        "\t\tprint(\"sig_net: \"+ str(sig_net))\n",
        "\t\tprint(\"sig_dash_net: \"+ str(sig_dash_net))\n",
        "\t\tprint(\"delta_w: \"+ str(delta_w))\n",
        "\t\tprint(\"teacher_signal: \"+ str(teacher_signal))\n",
        "\t\tprint(\"w: \"+ str(w))\n",
        "\t\tprint(\"-------------------\\n\")\n",
        "\n",
        "\n",
        "def compute():\n",
        "\n",
        "\ttry:\n",
        "\t\tn = int(input(\"Enter number of input vectors: \"))\n",
        "\n",
        "\t\tx = []\n",
        "\t\tr = 0.1 #Learning rate\n",
        "\n",
        "\t\tfor i in range(0,n):\n",
        "\t\t\traw_str1 = str(input(\"Enter values for vector \" + str(i+1) + \": \"))\n",
        "\t\t\tinput_vector = raw_str1.split(' ')\n",
        "\t\t\t#print(input_vector)\n",
        "\t\t\tip_list = []\n",
        "\t\t\tfor ele in input_vector:\n",
        "\t\t\t\tip_list.append(float(ele))\n",
        "\t\t\t#print(ip_list)\n",
        "\t\t\tnp_list = np.array(ip_list, dtype=np.float64)\n",
        "\t\t\tx.append(np_list)\n",
        "\n",
        "\t\traw_str2 = str(input(\"Enter values for teacher signal: \"))\n",
        "\t\tteacher_signal = raw_str2.split(' ')\n",
        "\t\tteacher_signal = [int(x) for x in teacher_signal]\n",
        "\t\tif len(teacher_signal) != n:\n",
        "\t\t\tprint(\"Teacher Signal length Error..\")\n",
        "\t\t\ttime.sleep(3)\n",
        "\t\t\texit()\n",
        "\n",
        "\n",
        "\t\traw_str3 = str(input(\"Enter initial weight vector: \"))\n",
        "\t\tw = raw_str3.split(' ')\n",
        "\t\tw_list = []\n",
        "\t\tfor ele in w:\n",
        "\t\t\tw_list.append(round(float(ele), 3))\n",
        "\t\tnp_wlist = np.array(w_list, dtype=np.float64)\n",
        "\t\t#print(np_wlist)\n",
        "\n",
        "\t\tdelta_w = 0\n",
        "\t\tfor i in range(0,n):\n",
        "\n",
        "\t\t\tnet = round(np.transpose(np.asarray(w_list)).dot(np.asarray(x[i])), 3)\n",
        "\t\t\t#print(net)\n",
        "\t\t\tsig_net = threshold(net)\n",
        "\t\t\tsig_dash_net = round(0.5 * ( 1 - ((sig_net)**2)), 3)\n",
        "\t\t\tprint(sig_dash_net)\n",
        "\n",
        "\t\t\tif sig_net != teacher_signal[i]:\n",
        "\n",
        "\t\t\t\trounded_delta_w = []\n",
        "\t\t\t\trounded_w_list = []\n",
        "\n",
        "\t\t\t\tdelta_w = (r * (teacher_signal[i] - sig_net) * sig_dash_net * x[i])\n",
        "\n",
        "\t\t\t\tfor ele in delta_w:\n",
        "\t\t\t\t\trounded_delta_w.append(round(ele, 3))\n",
        "\t\t\t\t#print(delta_w)\n",
        "\n",
        "\t\t\t\tw_list = np.add(np.asarray(w_list), rounded_delta_w)\n",
        "\t\t\t\tfor ele in w_list:\n",
        "\t\t\t\t\trounded_w_list.append(round(ele, 3))\n",
        "\t\t\t\tw_list = rounded_w_list\n",
        "\n",
        "\t\t\telse:\n",
        "\t\t\t\trounded_w_list = []\n",
        "\t\t\t\tfor ele in w_list:\n",
        "\t\t\t\t\trounded_w_list.append(round(ele, 3))\n",
        "\t\t\t\tw_list = rounded_w_list\n",
        "\n",
        "\t\t\tprint_func(i, net, sig_net, sig_dash_net, teacher_signal[i], w_list, rounded_delta_w)\n",
        "\n",
        "\texcept Exception as e:\n",
        "\t\tprint(\"Error.. \"+(str(e)))\n",
        "\n",
        "\n",
        "\n",
        "\n",
        "if __name__ == '__main__':\n",
        "\tcompute()"
      ]
    },
    {
      "cell_type": "markdown",
      "source": [
        "## Explanation:"
      ],
      "metadata": {
        "id": "WOVkLvT6RIhj"
      }
    },
    {
      "cell_type": "markdown",
      "source": [
        "1. **Importing Libraries:** The code imports necessary libraries such as numpy for numerical operations and time for time-related functions.\n",
        "2. **Defining the Threshold Function:** There's a function called threshold that computes the output of a neuron using the sigmoid activation function. It takes an input x and returns the rounded value of the sigmoid function applied to x.\n",
        "3. **Print Function:** A print_func is defined to neatly print out the iteration details including the iteration number, net input, activation output, derivative of the activation function, teacher signal, current weight vector, and change in weights.\n",
        "4. **Compute Function:** This is the main function where the computation happens. It first asks the user for the number of input vectors (n), learning rate (r), input vectors, teacher signals, and initial weight vector.\n",
        "5. **Processing Input Vectors and Teacher Signals:** Input vectors and teacher signals are processed. The input vectors are stored in a list of numpy arrays x, and the teacher signals are converted to integers and stored in a list.\n",
        "6. **Weight Vector Processing:** The initial weight vector is parsed and stored as a list of rounded floats.\n",
        "7. **Iteration through Input Vectors:** The program iterates through each input vector.\n",
        "8. **Computing Net Input and Activation:** For each input vector, it computes the net input by taking the dot product of the weight vector and the input vector. Then it computes the activation using the threshold function.\n",
        "9. **Calculating Derivative of Activation:** The derivative of the activation function (sigmoid) is calculated. This is used in the weight update step for the delta rule.\n",
        "10. **Weight Update:** If the activation output doesn't match the corresponding teacher signal, the weights are updated using the delta rule: delta_w = learning_rate * (teacher_signal - sig_net) * sig_dash_net * input_vector. These updated weights are then added to the current weight vector.\n",
        "11. **Printing Iteration Details:** The print_func function is called to print the details of each iteration.\n",
        "12. **Error Handling:** Exception handling is included to catch any errors that might occur during execution."
      ],
      "metadata": {
        "id": "6qzfpyqRRbLz"
      }
    },
    {
      "cell_type": "code",
      "source": [],
      "metadata": {
        "id": "eCCU9vHaWZxV"
      },
      "execution_count": null,
      "outputs": []
    }
  ]
}