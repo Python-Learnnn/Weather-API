{
  "nbformat": 4,
  "nbformat_minor": 0,
  "metadata": {
    "colab": {
      "provenance": []
    },
    "kernelspec": {
      "name": "python3",
      "display_name": "Python 3"
    },
    "language_info": {
      "name": "python"
    }
  },
  "cells": [
    {
      "cell_type": "markdown",
      "source": [
        "# Hebbian Learning Implementation\n",
        "**Name:** Swarada Pravinchandra Bhosale <br>\n",
        "**PRN:** 21610077<br>\n",
        "**Class:** Information Technology <br>\n",
        "**Year:**Third Year <br>\n",
        "**Batch:** T3<br>\n"
      ],
      "metadata": {
        "id": "NZ000LecQd5h"
      }
    },
    {
      "cell_type": "markdown",
      "source": [
        "## Code:"
      ],
      "metadata": {
        "id": "k3Bd9ZPiRK_S"
      }
    },
    {
      "cell_type": "code",
      "execution_count": null,
      "metadata": {
        "colab": {
          "base_uri": "https://localhost:8080/"
        },
        "id": "0dBQY7NxPPzb",
        "outputId": "5dffb513-01f7-49e9-c06b-1c7f81d0716f"
      },
      "outputs": [
        {
          "output_type": "stream",
          "name": "stdout",
          "text": [
            "Enter number of input vectors: 3\n",
            "Enter values for vector 1: 1 2 3\n",
            "Enter values for vector 2: 2 3 4\n",
            "Enter values for vector 3: 3 4 5\n",
            "Enter initial weight vector: 1 0 1\n",
            "i: 0\n",
            "net: 4.0\n",
            "sig_net: 1\n",
            "delta_w: [1. 2. 3.]\n",
            "w: [2. 2. 4.]\n",
            "-------------------\n",
            "\n",
            "i: 1\n",
            "net: 26.0\n",
            "sig_net: 1\n",
            "delta_w: [2. 3. 4.]\n",
            "w: [4. 5. 8.]\n",
            "-------------------\n",
            "\n",
            "i: 2\n",
            "net: 72.0\n",
            "sig_net: 1\n",
            "delta_w: [3. 4. 5.]\n",
            "w: [ 7.  9. 13.]\n",
            "-------------------\n",
            "\n"
          ]
        }
      ],
      "source": [
        "# -*- coding: utf-8 -*-\n",
        "\n",
        "import numpy as np\n",
        "import time\n",
        "\n",
        "def threshold(x):\n",
        "\tif x >=0:\n",
        "\t\treturn 1\n",
        "\telse:\n",
        "\t\treturn -1\n",
        "\n",
        "\n",
        "def print_func(loop_var, net, sig_net, w, delta_w):\n",
        "\t\tprint(\"i: \"+ str(loop_var))\n",
        "\t\tprint(\"net: \"+ str(net))\n",
        "\t\tprint(\"sig_net: \"+ str(sig_net))\n",
        "\t\tprint(\"delta_w: \"+ str(delta_w))\n",
        "\t\tprint(\"w: \"+ str(w))\n",
        "\t\tprint(\"-------------------\\n\")\n",
        "\n",
        "\n",
        "def compute():\n",
        "\n",
        "\ttry:\n",
        "\t\tn = int(input(\"Enter number of input vectors: \"))\n",
        "\n",
        "\t\tx = []\n",
        "\t\tr = 1 #Learning constant(c)\n",
        "\n",
        "\t\tfor i in range(0,n):\n",
        "\t\t\traw_str1 = str(input(\"Enter values for vector \" + str(i+1) + \": \"))\n",
        "\t\t\tinput_vector = raw_str1.split(' ')\n",
        "\t\t\t#print(input_vector)\n",
        "\t\t\tip_list = []\n",
        "\t\t\tfor ele in input_vector:\n",
        "\t\t\t\tip_list.append(float(ele))\n",
        "\t\t\t#print(ip_list)\n",
        "\t\t\tnp_list = np.array(ip_list, dtype=np.float64)\n",
        "\t\t\tx.append(np_list)\n",
        "\n",
        "\t\traw_str3 = str(input(\"Enter initial weight vector: \"))\n",
        "\t\tw = raw_str3.split(' ')\n",
        "\t\tw_list = []\n",
        "\t\tfor ele in w:\n",
        "\t\t\tw_list.append(float(ele))\n",
        "\n",
        "\t\t#np_wlist = np.array(w_list, dtype=np.float64)\n",
        "\t\t#print(np_wlist)\n",
        "\t\t#if len(np_wlist) != n:\n",
        "\t\t#\tprint(\"Init Weight Vector Error..\")\n",
        "\n",
        "\t\tdelta_w = 0\n",
        "\t\tfor i in range(0,n):\n",
        "\n",
        "\t\t\tnet = np.transpose(np.asarray(w_list)).dot(np.asarray(x[i]))\n",
        "\t\t\t#print(net)\n",
        "\t\t\tsig_net = threshold(net)\n",
        "\t\t\t#print(sig_net)\n",
        "\n",
        "\t\t\tdelta_w = r * sig_net * x[i]\n",
        "\t\t\t#print(delta_w)\n",
        "\t\t\tw_list = np.add(np.asarray(w_list),delta_w)\n",
        "\n",
        "\t\t\tprint_func(i, net, sig_net, w_list, delta_w)\n",
        "\n",
        "\texcept Exception as e:\n",
        "\t\tprint(\"Error.. \"+(str(e)))\n",
        "\n",
        "\n",
        "if __name__ == '__main__':\n",
        "\tcompute()"
      ]
    },
    {
      "cell_type": "markdown",
      "source": [
        "## Explanation:"
      ],
      "metadata": {
        "id": "WOVkLvT6RIhj"
      }
    },
    {
      "cell_type": "markdown",
      "source": [
        "1. **Input Gathering:** The program asks the user for the number of input vectors (n) and then prompts the user to input values for each vector and the initial weight vector.\n",
        "2. **Threshold Function:** There's a function called threshold that takes a value x and returns 1 if x is greater than or equal to 0, otherwise returns -1. This function helps determine the activation of the perceptron.\n",
        "3. **Perceptron Computation:** Inside the compute function, the program calculates the output of the perceptron for each input vector using the formula net = w * x, where w is the weight vector and x is the input vector.\n",
        "4. **Activation:** The output of the perceptron is passed through the threshold function to determine its activation. If the output is greater than or equal to 0, the perceptron outputs 1; otherwise, it outputs -1.\n",
        "5. **Weight Update:** Based on the difference between the expected output and the actual output, the weights are updated using the formula delta_w = learning_rate * activation * input_vector. The learning rate (r) determines how much the weights should be adjusted in each iteration.\n",
        "6. **Printing:** The program prints out the iteration number, the net input, the activation output, the updated weight vector, and the change in weights for each iteration.\n",
        "7. **Error Handling:** The program includes error handling to catch any exceptions that might occur during execution."
      ],
      "metadata": {
        "id": "6qzfpyqRRbLz"
      }
    }
  ]
}