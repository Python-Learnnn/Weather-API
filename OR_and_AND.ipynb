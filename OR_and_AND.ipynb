{
  "nbformat": 4,
  "nbformat_minor": 0,
  "metadata": {
    "colab": {
      "provenance": []
    },
    "kernelspec": {
      "name": "python3",
      "display_name": "Python 3"
    },
    "language_info": {
      "name": "python"
    }
  },
  "cells": [
    {
      "cell_type": "code",
      "execution_count": 5,
      "metadata": {
        "colab": {
          "base_uri": "https://localhost:8080/"
        },
        "id": "sST5uJ6mDV4-",
        "outputId": "483258e1-3e41-40dc-fec7-a7d15958ba8b"
      },
      "outputs": [
        {
          "output_type": "stream",
          "name": "stdout",
          "text": [
            "Input: [0 0], Output: 0\n",
            "Input: [0 1], Output: 1\n",
            "Input: [1 0], Output: 1\n",
            "Input: [0 2], Output: 1\n"
          ]
        }
      ],
      "source": [
        "import numpy as np\n",
        "\n",
        "# Define the activation function\n",
        "def activation_function(x):\n",
        "    return 1 if x >= 0 else 0\n",
        "\n",
        "# Perceptron learning rule\n",
        "def perceptron_learning_rule(inputs, weights, label, learning_rate=1, epochs=100):\n",
        "    for _ in range(epochs):\n",
        "        for i in range(len(inputs)):\n",
        "            prediction = activation_function(np.dot(inputs[i], weights))\n",
        "            weights += learning_rate * (label[i] - prediction) * inputs[i]\n",
        "    return weights\n",
        "\n",
        "# Training data for logical OR\n",
        "inputs = np.array([\n",
        "    [0, 0],\n",
        "    [0, 1],\n",
        "    [1, 0],\n",
        "    [1, 1]\n",
        "], dtype=int)\n",
        "label = np.array([0, 1, 1, 1], dtype=int)  # Logical OR labels\n",
        "\n",
        "# Initialize weights randomly\n",
        "weights = np.random.randint(0, 2, size=3)  # +1 for the bias\n",
        "\n",
        "# Add bias to inputs\n",
        "inputs_with_bias = np.c_[np.ones(len(inputs), dtype=int), inputs]\n",
        "\n",
        "# Train the Perceptron\n",
        "weights = perceptron_learning_rule(inputs_with_bias, weights, label)\n",
        "\n",
        "# Test the Perceptron\n",
        "test_inputs = np.array([\n",
        "    [0, 0],\n",
        "    [0, 1],\n",
        "    [1, 0],\n",
        "    [0, 2]\n",
        "], dtype=int)\n",
        "test_inputs_with_bias = np.c_[np.ones(len(test_inputs), dtype=int), test_inputs]\n",
        "for inputs in test_inputs_with_bias:\n",
        "    prediction = activation_function(np.dot(inputs, weights))\n",
        "    print(f\"Input: {inputs[1:]}, Output: {prediction}\")\n"
      ]
    },
    {
      "cell_type": "code",
      "source": [
        "import numpy as np\n",
        "\n",
        "# Define the activation function\n",
        "def activation_function(x):\n",
        "    return 1 if x >= 0 else 0\n",
        "\n",
        "# Perceptron learning rule\n",
        "def perceptron_learning_rule(inputs, weights, label, learning_rate=1, epochs=100):\n",
        "    for _ in range(epochs):\n",
        "        for i in range(len(inputs)):\n",
        "            prediction = activation_function(np.dot(inputs[i], weights))\n",
        "            weights += learning_rate * (label[i] - prediction) * inputs[i]\n",
        "    return weights.astype(int)\n",
        "\n",
        "# Training data for logical AND\n",
        "inputs = np.array([\n",
        "    [0, 0],\n",
        "    [0, 1],\n",
        "    [1, 0],\n",
        "    [1, 1]\n",
        "], dtype=int)\n",
        "label = np.array([0, 0, 0, 1], dtype=int)\n",
        "\n",
        "# Initialize weights randomly\n",
        "weights = np.random.randint(0, 2, size=3)  # +1 for the bias\n",
        "\n",
        "# Add bias to inputs\n",
        "inputs_with_bias = np.c_[np.ones(len(inputs), dtype=int), inputs]\n",
        "\n",
        "# Train the Perceptron\n",
        "weights = perceptron_learning_rule(inputs_with_bias, weights, label)\n",
        "\n",
        "# Test the Perceptron\n",
        "test_inputs = np.array([\n",
        "    [0, 0],\n",
        "    [0, 2],\n",
        "    [1, 0],\n",
        "    [3, 1]\n",
        "], dtype=int)\n",
        "test_inputs_with_bias = np.c_[np.ones(len(test_inputs), dtype=int), test_inputs]\n",
        "for inputs in test_inputs_with_bias:\n",
        "    prediction = activation_function(np.dot(inputs, weights))\n",
        "    print(f\"Input: {inputs[1:]}, Output: {prediction}\")\n"
      ],
      "metadata": {
        "colab": {
          "base_uri": "https://localhost:8080/"
        },
        "id": "tpmUYG-jDYXW",
        "outputId": "25017e1c-4b79-4c57-b86d-92a41b0b6c1a"
      },
      "execution_count": 9,
      "outputs": [
        {
          "output_type": "stream",
          "name": "stdout",
          "text": [
            "Input: [0 0], Output: 0\n",
            "Input: [0 2], Output: 0\n",
            "Input: [1 0], Output: 0\n",
            "Input: [3 1], Output: 1\n"
          ]
        }
      ]
    },
    {
      "cell_type": "code",
      "source": [],
      "metadata": {
        "id": "6tPFZwuEDwCj"
      },
      "execution_count": null,
      "outputs": []
    }
  ]
}